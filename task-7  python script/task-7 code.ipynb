{
 "cells": [
  {
   "cell_type": "code",
   "execution_count": 1,
   "id": "c0d94866-8b5c-468f-866e-9faa714384ab",
   "metadata": {},
   "outputs": [
    {
     "name": "stdout",
     "output_type": "stream",
     "text": [
      "✅ sales_data.db created and populated with sample data.\n"
     ]
    }
   ],
   "source": [
    "import sqlite3\n",
    "\n",
    "conn = sqlite3.connect(\"sales_data.db\")\n",
    "cursor = conn.cursor()\n",
    "\n",
    "cursor.execute('''\n",
    "    CREATE TABLE IF NOT EXISTS sales (\n",
    "        id INTEGER PRIMARY KEY AUTOINCREMENT,\n",
    "        product TEXT NOT NULL,\n",
    "        quantity INTEGER NOT NULL,\n",
    "        price REAL NOT NULL\n",
    "    )\n",
    "''')\n",
    "\n",
    "sample_data = [\n",
    "    ('Product A', 10, 15.0),\n",
    "    ('Product B', 5, 20.0),\n",
    "    ('Product A', 7, 15.0),\n",
    "    ('Product C', 3, 25.0),\n",
    "    ('Product B', 2, 20.0)\n",
    "]\n",
    "\n",
    "cursor.executemany('INSERT INTO sales (product, quantity, price) VALUES (?, ?, ?)', sample_data)\n",
    "\n",
    "\n",
    "conn.commit()\n",
    "conn.close()\n",
    "\n",
    "print(\"✅ sales_data.db created and populated with sample data.\")\n"
   ]
  },
  {
   "cell_type": "code",
   "execution_count": 2,
   "id": "02d02105-36f9-4e83-a295-87506d998534",
   "metadata": {},
   "outputs": [
    {
     "name": "stdout",
     "output_type": "stream",
     "text": [
      "C:\\Users\\Ismail\\OneDrive\\Desktop\\jupyter projects\n"
     ]
    }
   ],
   "source": [
    "import os\n",
    "print(os.getcwd())\n"
   ]
  },
  {
   "cell_type": "code",
   "execution_count": 3,
   "id": "a76767b3-8a8c-4b22-a732-62a969acc2cc",
   "metadata": {},
   "outputs": [
    {
     "ename": "ModuleNotFoundError",
     "evalue": "No module named 'pandas'",
     "output_type": "error",
     "traceback": [
      "\u001b[31m---------------------------------------------------------------------------\u001b[39m",
      "\u001b[31mModuleNotFoundError\u001b[39m                       Traceback (most recent call last)",
      "\u001b[36mCell\u001b[39m\u001b[36m \u001b[39m\u001b[32mIn[3]\u001b[39m\u001b[32m, line 2\u001b[39m\n\u001b[32m      1\u001b[39m \u001b[38;5;28;01mimport\u001b[39;00m\u001b[38;5;250m \u001b[39m\u001b[34;01msqlite3\u001b[39;00m\n\u001b[32m----> \u001b[39m\u001b[32m2\u001b[39m \u001b[38;5;28;01mimport\u001b[39;00m\u001b[38;5;250m \u001b[39m\u001b[34;01mpandas\u001b[39;00m\u001b[38;5;250m \u001b[39m\u001b[38;5;28;01mas\u001b[39;00m\u001b[38;5;250m \u001b[39m\u001b[34;01mpd\u001b[39;00m\n\u001b[32m      4\u001b[39m conn = sqlite3.connect(\u001b[33m\"\u001b[39m\u001b[33msales_data.db\u001b[39m\u001b[33m\"\u001b[39m)\n\u001b[32m      6\u001b[39m query = \u001b[33m'''\u001b[39m\n\u001b[32m      7\u001b[39m \u001b[33m    SELECT \u001b[39m\n\u001b[32m      8\u001b[39m \u001b[33m        product, \u001b[39m\n\u001b[32m   (...)\u001b[39m\u001b[32m     12\u001b[39m \u001b[33m    GROUP BY product\u001b[39m\n\u001b[32m     13\u001b[39m \u001b[33m'''\u001b[39m\n",
      "\u001b[31mModuleNotFoundError\u001b[39m: No module named 'pandas'"
     ]
    }
   ],
   "source": [
    "import sqlite3\n",
    "import pandas as pd\n",
    "\n",
    "conn = sqlite3.connect(\"sales_data.db\")\n",
    "\n",
    "query = '''\n",
    "    SELECT \n",
    "        product, \n",
    "        SUM(quantity) AS total_quantity, \n",
    "        SUM(quantity * price) AS total_revenue\n",
    "    FROM sales\n",
    "    GROUP BY product\n",
    "'''\n",
    "\n",
    "df = pd.read_sql_query(query, conn)\n",
    "\n",
    "conn.close()\n",
    "\n",
    "print(\"✅ Sales Summary:\")\n",
    "print(df)\n"
   ]
  },
  {
   "cell_type": "code",
   "execution_count": 4,
   "id": "b2940a72-a094-4bef-8fc7-96024b9ed849",
   "metadata": {},
   "outputs": [
    {
     "name": "stdout",
     "output_type": "stream",
     "text": [
      "✅ Sales Summary:\n",
      "     product  total_quantity  total_revenue\n",
      "0  Product A              17          255.0\n",
      "1  Product B               7          140.0\n",
      "2  Product C               3           75.0\n"
     ]
    }
   ],
   "source": [
    "import sqlite3\n",
    "import pandas as pd\n",
    "\n",
    "# Step 1: Connect to the existing database\n",
    "conn = sqlite3.connect(\"sales_data.db\")\n",
    "\n",
    "# Step 2: Define the SQL query to summarize quantity and revenue\n",
    "query = '''\n",
    "    SELECT \n",
    "        product, \n",
    "        SUM(quantity) AS total_quantity, \n",
    "        SUM(quantity * price) AS total_revenue\n",
    "    FROM sales\n",
    "    GROUP BY product\n",
    "'''\n",
    "\n",
    "# Step 3: Run the query and load the result into a pandas DataFrame\n",
    "df = pd.read_sql_query(query, conn)\n",
    "\n",
    "# Step 4: Close the connection\n",
    "conn.close()\n",
    "\n",
    "# Step 5: Print the result\n",
    "print(\"✅ Sales Summary:\")\n",
    "print(df)\n"
   ]
  },
  {
   "cell_type": "code",
   "execution_count": 5,
   "id": "f5d56f41-982d-4659-ae5a-ec3cabf6ef50",
   "metadata": {},
   "outputs": [
    {
     "data": {
      "image/png": "[encoded data removed]",
      "text/plain": [
       "<Figure size 640x480 with 1 Axes>"
      ]
     },
     "metadata": {},
     "output_type": "display_data"
    }
   ],
   "source": [
    "import matplotlib.pyplot as plt\n",
    "\n",
    "df.plot(kind='bar', x='product', y='total_revenue', legend=False)\n",
    "\n",
    "plt.title('Total Revenue per Product')\n",
    "plt.xlabel('Product')\n",
    "plt.ylabel('Revenue ($)')\n",
    "plt.tight_layout()\n",
    "\n",
    "plt.show()\n",
    "\n",
    "\n"
   ]
  },
  {
   "cell_type": "code",
   "execution_count": null,
   "id": "c60c565a-9f4e-4dd6-b679-19b405803a3b",
   "metadata": {},
   "outputs": [],
   "source": []
  }
 ],
 "metadata": {
  "kernelspec": {
   "display_name": "Python 3 (ipykernel)",
   "language": "python",
   "name": "python3"
  },
  "language_info": {
   "codemirror_mode": {
    "name": "ipython",
    "version": 3
   },
   "file_extension": ".py",
   "mimetype": "text/x-python",
   "name": "python",
   "nbconvert_exporter": "python",
   "pygments_lexer": "ipython3",
   "version": "3.13.3"
  }
 },
 "nbformat": 4,
 "nbformat_minor": 5
}
